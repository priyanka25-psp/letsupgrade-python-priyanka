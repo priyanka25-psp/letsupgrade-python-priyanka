{
  "nbformat": 4,
  "nbformat_minor": 0,
  "metadata": {
    "colab": {
      "name": "assignment5day6.ipynb",
      "provenance": []
    },
    "kernelspec": {
      "name": "python3",
      "display_name": "Python 3"
    }
  },
  "cells": [
    {
      "cell_type": "code",
      "metadata": {
        "id": "K9RWqGJ4R8-C",
        "colab_type": "code",
        "colab": {}
      },
      "source": [
        "#Que 1 - For this challenge, create a bank account class that has two attributes \n",
        "#*ownerName , *Balance, \n",
        "#and two methods\n",
        "#*deposit,\n",
        "#*withdraw\n",
        "#as an added requirement, withdrawals may not exceed the available balance.\n",
        "#Instantiate your class, make several deposits and withdrawals, and test to make sure the account cant be overdrawn. \n",
        "\n",
        "class Bank_Account: \n",
        "    def __init__(self): \n",
        "        self.balance=0\n",
        "        print(\"Hello!!! Welcome to the Deposit & Withdrawal Machine\") \n",
        "  \n",
        "    def deposit(self): \n",
        "        amount=float(input(\"Enter amount to be Deposited: \")) \n",
        "        self.balance += amount \n",
        "        print(\"\\n Amount Deposited:\",amount) \n",
        "  \n",
        "    def withdraw(self): \n",
        "        amount = float(input(\"Enter amount to be Withdrawn: \")) \n",
        "        if self.balance>=amount: \n",
        "            self.balance-=amount \n",
        "            print(\"\\n You Withdrew:\", amount) \n",
        "        else: \n",
        "            print(\"\\n Insufficient balance  \") \n",
        "  \n",
        "    def display(self): \n",
        "        print(\"\\n Net Available Balance=\",self.balance) "
      ],
      "execution_count": null,
      "outputs": []
    },
    {
      "cell_type": "code",
      "metadata": {
        "id": "9Wgut-OkSCAE",
        "colab_type": "code",
        "colab": {
          "base_uri": "https://localhost:8080/",
          "height": 34
        },
        "outputId": "ccc6acfe-a26c-4794-9942-948f272f82ae"
      },
      "source": [
        "s = Bank_Account() "
      ],
      "execution_count": null,
      "outputs": [
        {
          "output_type": "stream",
          "text": [
            "Hello!!! Welcome to the Deposit & Withdrawal Machine\n"
          ],
          "name": "stdout"
        }
      ]
    },
    {
      "cell_type": "code",
      "metadata": {
        "id": "K7TJ3Ut5SGyj",
        "colab_type": "code",
        "colab": {
          "base_uri": "https://localhost:8080/",
          "height": 153
        },
        "outputId": "4fee722d-87a5-413d-caa4-9790520dd71a"
      },
      "source": [
        "s.deposit() \n",
        "s.withdraw() \n",
        "s.display() "
      ],
      "execution_count": null,
      "outputs": [
        {
          "output_type": "stream",
          "text": [
            "Enter amount to be Deposited: 1000\n",
            "\n",
            " Amount Deposited: 1000.0\n",
            "Enter amount to be Withdrawn: 500\n",
            "\n",
            " You Withdrew: 500.0\n",
            "\n",
            " Net Available Balance= 500.0\n"
          ],
          "name": "stdout"
        }
      ]
    },
    {
      "cell_type": "code",
      "metadata": {
        "id": "faMWkKUegN3K",
        "colab_type": "code",
        "colab": {
          "base_uri": "https://localhost:8080/",
          "height": 51
        },
        "outputId": "ade151ee-cd78-496d-fc42-062af143b0fa"
      },
      "source": [
        "#Que 2 - \n",
        "#for this challenge, create a cone class that has two attributes:\n",
        "#*R = Radius\n",
        "#*h = Height\n",
        "#and two methods: \n",
        "#*volume = II *r2 = (h/3)\n",
        "#*Surface area : base: II * r2, side: II * r * (r2+h2)\n",
        "#Make only one class with functions, as in where required import math.\n",
        "\n",
        "\n",
        "''' Python3 program to calculate Volume and  \n",
        "    Surface area of Cone'''\n",
        "  \n",
        "# Importing Math library for value Of PI \n",
        "import math \n",
        "pi = math.pi \n",
        "  \n",
        "# Function to calculate Volume of Cone \n",
        "def volume(r, h): \n",
        "    return (1 / 3) * pi * r * r * h \n",
        "  \n",
        "# Function To Calculate Surface Area of Cone \n",
        "def surfacearea(r, s): \n",
        "    return pi * r * s + pi * r * r \n",
        "  \n",
        "# Driver Code \n",
        "radius = float(5) \n",
        "height = float(12) \n",
        "slat_height = float(13) \n",
        "print( \"Volume Of Cone : \", volume(radius, height) ) \n",
        "print( \"Surface Area Of Cone : \", surfacearea(radius, slat_height) ) "
      ],
      "execution_count": null,
      "outputs": [
        {
          "output_type": "stream",
          "text": [
            "Volume Of Cone :  314.15926535897927\n",
            "Surface Area Of Cone :  282.7433388230814\n"
          ],
          "name": "stdout"
        }
      ]
    },
    {
      "cell_type": "code",
      "metadata": {
        "id": "J63LszO_htsv",
        "colab_type": "code",
        "colab": {}
      },
      "source": [
        "def is_prime(number):\n",
        "    for i in range(2, int(sqrt(number)) + 1):\n",
        "        if number % i == 0:\n",
        "            return False\n",
        "\n",
        "    return number > 1\n",
        "   "
      ],
      "execution_count": null,
      "outputs": []
    },
    {
      "cell_type": "code",
      "metadata": {
        "id": "2pVF04aHhwFa",
        "colab_type": "code",
        "colab": {}
      },
      "source": [
        "def filter_primes(general_list):\n",
        "    return set(filter(is_prime, general_list))"
      ],
      "execution_count": null,
      "outputs": []
    },
    {
      "cell_type": "code",
      "metadata": {
        "id": "GMFCoD6XCoBM",
        "colab_type": "code",
        "colab": {}
      },
      "source": [
        ""
      ],
      "execution_count": null,
      "outputs": []
    }
  ]
}