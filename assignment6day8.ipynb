{
  "nbformat": 4,
  "nbformat_minor": 0,
  "metadata": {
    "colab": {
      "name": "assignment6day8.ipynb",
      "provenance": []
    },
    "kernelspec": {
      "name": "python3",
      "display_name": "Python 3"
    }
  },
  "cells": [
    {
      "cell_type": "code",
      "metadata": {
        "id": "rIeruksLtbb_",
        "colab_type": "code",
        "colab": {
          "base_uri": "https://localhost:8080/",
          "height": 34
        },
        "outputId": "fd46439a-432a-4498-99d9-28fdb158d4ef"
      },
      "source": [
        "#day 8\n",
        "#Que 1- write a decorator function for your taking input for you any kind of function you want to build, \n",
        "#For example - you make a fibonacci series function, in which your input range is been defined by the decorator program input\n",
        "\n",
        "class Fibonacci:\n",
        "\n",
        "    def __init__(self):\n",
        "        self.cache = {}\n",
        "    def __call__(self, n):\n",
        "        if n not in self.cache:\n",
        "            if n == 0:\n",
        "                self.cache[0] = 0\n",
        "            elif n == 1:\n",
        "                self.cache[1] = 1\n",
        "            else:\n",
        "                self.cache[n] = self.__call__(n-1) + self.__call__(n-2)\n",
        "        return self.cache[n]\n",
        "\n",
        "fib = Fibonacci()\n",
        "\n",
        "for i in range(20):\n",
        "    print(fib(i), end=\", \")"
      ],
      "execution_count": null,
      "outputs": [
        {
          "output_type": "stream",
          "text": [
            "0, 1, 1, 2, 3, 5, 8, 13, 21, 34, 55, 89, 144, 233, 377, 610, 987, 1597, 2584, 4181, "
          ],
          "name": "stdout"
        }
      ]
    },
    {
      "cell_type": "code",
      "metadata": {
        "id": "8nZWxxVUuFi9",
        "colab_type": "code",
        "colab": {}
      },
      "source": [
        "#que 2 - For this challenge you need to develop a python program to open a file in read only mode\n",
        "# and try writing something to it and handle the subsequent errors using  Exception Handing.\n"
      ],
      "execution_count": null,
      "outputs": []
    },
    {
      "cell_type": "code",
      "metadata": {
        "id": "b3KAAFAQ8edn",
        "colab_type": "code",
        "colab": {
          "base_uri": "https://localhost:8080/",
          "height": 34
        },
        "outputId": "cc71a2dd-bd7e-4bc0-bf73-b4fa7a294d91"
      },
      "source": [
        "%%writefile some_code.py\n",
        "'''\n",
        "It is a peice of non-sense example code\n",
        "'''\n",
        "A = 1\n",
        "B = 2\n",
        "\n",
        "def addition(num1, num2):\n",
        "    '''\n",
        "    Hey this is a Simple Addition Fuction\n",
        "    '''\n",
        "    print(num1 + num2)\n",
        "\n",
        "addition(A, B)"
      ],
      "execution_count": null,
      "outputs": [
        {
          "output_type": "stream",
          "text": [
            "Writing some_code.py\n"
          ],
          "name": "stdout"
        }
      ]
    },
    {
      "cell_type": "code",
      "metadata": {
        "id": "8oyPOVyL8wPi",
        "colab_type": "code",
        "colab": {
          "base_uri": "https://localhost:8080/",
          "height": 119
        },
        "outputId": "ad96327a-c267-427a-e921-7f331ffa5dc2"
      },
      "source": [
        "! pylint \"some_code.py\""
      ],
      "execution_count": null,
      "outputs": [
        {
          "output_type": "stream",
          "text": [
            "************* Module some_code\n",
            "some_code.py:13:0: C0304: Final newline missing (missing-final-newline)\n",
            "\n",
            "------------------------------------------------------------------\n",
            "Your code has been rated at 8.00/10 (previous run: 8.00/10, +0.00)\n",
            "\n"
          ],
          "name": "stdout"
        }
      ]
    }
  ]
}